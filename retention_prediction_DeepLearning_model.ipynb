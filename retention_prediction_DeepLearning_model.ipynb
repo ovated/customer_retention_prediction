{
 "cells": [
  {
   "cell_type": "markdown",
   "metadata": {},
   "source": [
    "#### Relevant libraries"
   ]
  },
  {
   "cell_type": "code",
   "execution_count": 1,
   "metadata": {},
   "outputs": [],
   "source": [
    "import numpy as np\n",
    "import tensorflow as tf"
   ]
  },
  {
   "cell_type": "markdown",
   "metadata": {},
   "source": [
    "#### Load the Data"
   ]
  },
  {
   "cell_type": "code",
   "execution_count": 2,
   "metadata": {},
   "outputs": [],
   "source": [
    "# To load the train data and convert the inputs to float, and targets to integers\n",
    "npz = np.load('Audiobooks_data_train.npz')\n",
    "\n",
    "train_inputs = npz['inputs'].astype(np.float)\n",
    "train_targets = npz['targets'].astype(np.int)\n",
    "\n",
    "# To load the validation data and convert the inputs to float, and targets to integers\n",
    "npz = np.load('Audiobooks_data_validation.npz')\n",
    "validation_inputs, validation_targets = npz['inputs'].astype(np.float), npz['targets'].astype(np.int)\n",
    "\n",
    "# To load the test data and convert the inputs to float, and targets to integers\n",
    "npz = np.load('Audiobooks_data_test.npz')\n",
    "test_inputs, test_targets = npz['inputs'].astype(np.float), npz['targets'].astype(np.int)"
   ]
  },
  {
   "cell_type": "markdown",
   "metadata": {},
   "source": [
    "## Model and hyperparameters"
   ]
  },
  {
   "cell_type": "code",
   "execution_count": 3,
   "metadata": {},
   "outputs": [],
   "source": [
    "# Set the input and output sizes\n",
    "input_size = 10\n",
    "output_size = 2\n",
    "# The layer size for the 2 hidden layers\n",
    "hidden_layer_size = 100\n",
    "\n",
    "model = tf.keras.Sequential([\n",
    "                            tf.keras.layers.Dense(hidden_layer_size, activation='relu'),\n",
    "                            tf.keras.layers.Dense(hidden_layer_size, activation='relu'),\n",
    "                            tf.keras.layers.Dense(output_size, activation='softmax')\n",
    "                            ])"
   ]
  },
  {
   "cell_type": "markdown",
   "metadata": {},
   "source": [
    "#### Choose the optimizer and the loss function"
   ]
  },
  {
   "cell_type": "code",
   "execution_count": 4,
   "metadata": {},
   "outputs": [],
   "source": [
    "model.compile(optimizer=tf.keras.optimizers.Adam(), loss='sparse_categorical_crossentropy', metrics=['accuracy'])"
   ]
  },
  {
   "cell_type": "code",
   "execution_count": 5,
   "metadata": {},
   "outputs": [
    {
     "name": "stdout",
     "output_type": "stream",
     "text": [
      "Epoch 1/100\n",
      "36/36 - 1s - loss: 0.5662 - accuracy: 0.6815 - val_loss: 0.4559 - val_accuracy: 0.7606\n",
      "Epoch 2/100\n",
      "36/36 - 0s - loss: 0.4333 - accuracy: 0.7723 - val_loss: 0.4002 - val_accuracy: 0.7808\n",
      "Epoch 3/100\n",
      "36/36 - 0s - loss: 0.3908 - accuracy: 0.7879 - val_loss: 0.3690 - val_accuracy: 0.7987\n",
      "Epoch 4/100\n",
      "36/36 - 0s - loss: 0.3703 - accuracy: 0.7994 - val_loss: 0.3658 - val_accuracy: 0.8143\n",
      "Epoch 5/100\n",
      "36/36 - 0s - loss: 0.3631 - accuracy: 0.8036 - val_loss: 0.3523 - val_accuracy: 0.8054\n",
      "Epoch 6/100\n",
      "36/36 - 0s - loss: 0.3510 - accuracy: 0.8153 - val_loss: 0.3460 - val_accuracy: 0.8121\n",
      "Epoch 7/100\n",
      "36/36 - 0s - loss: 0.3492 - accuracy: 0.8047 - val_loss: 0.3493 - val_accuracy: 0.8054\n",
      "Epoch 8/100\n",
      "36/36 - 0s - loss: 0.3406 - accuracy: 0.8153 - val_loss: 0.3344 - val_accuracy: 0.8098\n",
      "Epoch 9/100\n",
      "36/36 - 0s - loss: 0.3373 - accuracy: 0.8153 - val_loss: 0.3369 - val_accuracy: 0.8054\n",
      "Epoch 10/100\n",
      "36/36 - 0s - loss: 0.3381 - accuracy: 0.8164 - val_loss: 0.3371 - val_accuracy: 0.8255\n"
     ]
    },
    {
     "data": {
      "text/plain": [
       "<tensorflow.python.keras.callbacks.History at 0x1f5e41c77f0>"
      ]
     },
     "execution_count": 5,
     "metadata": {},
     "output_type": "execute_result"
    }
   ],
   "source": [
    "# The batch size\n",
    "batch_size = 100\n",
    "\n",
    "# The maximum number of training\n",
    "max_epochs = 100\n",
    "\n",
    "# The patience variable represents the number of epochs with no improvements afterwhich the training will be stopped.\n",
    "early_stopping = tf.keras.callbacks.EarlyStopping(patience=2)\n",
    "\n",
    "# Train the model\n",
    "model.fit(train_inputs,\n",
    "         train_targets,\n",
    "         batch_size = batch_size,\n",
    "         epochs = max_epochs,\n",
    "         callbacks = [early_stopping],\n",
    "         validation_data = (validation_inputs, validation_targets),\n",
    "         verbose = 2)"
   ]
  },
  {
   "cell_type": "markdown",
   "metadata": {},
   "source": [
    "### Testing the model"
   ]
  },
  {
   "cell_type": "code",
   "execution_count": 6,
   "metadata": {},
   "outputs": [
    {
     "name": "stdout",
     "output_type": "stream",
     "text": [
      "14/14 [==============================] - 0s 1ms/step - loss: 0.3297 - accuracy: 0.8259\n"
     ]
    }
   ],
   "source": [
    "test_loss, test_accuracy = model.evaluate(test_inputs, test_targets)"
   ]
  },
  {
   "cell_type": "code",
   "execution_count": 7,
   "metadata": {},
   "outputs": [
    {
     "name": "stdout",
     "output_type": "stream",
     "text": [
      "Test loss: 0.33, Test Accuracy: 82.59%\n"
     ]
    }
   ],
   "source": [
    "print('Test loss:{0: .2f}, Test Accuracy:{1: .2f}%'.format(test_loss, test_accuracy*100.))"
   ]
  },
  {
   "cell_type": "code",
   "execution_count": null,
   "metadata": {},
   "outputs": [],
   "source": []
  }
 ],
 "metadata": {
  "kernelspec": {
   "display_name": "Python [conda env:tensorflow-development] *",
   "language": "python",
   "name": "conda-env-tensorflow-development-py"
  },
  "language_info": {
   "codemirror_mode": {
    "name": "ipython",
    "version": 3
   },
   "file_extension": ".py",
   "mimetype": "text/x-python",
   "name": "python",
   "nbconvert_exporter": "python",
   "pygments_lexer": "ipython3",
   "version": "3.6.12"
  }
 },
 "nbformat": 4,
 "nbformat_minor": 4
}
